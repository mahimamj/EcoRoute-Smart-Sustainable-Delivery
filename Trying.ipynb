{
 "cells": [
  {
   "cell_type": "code",
   "execution_count": 1,
   "id": "2ee761c5-da72-4f59-ac4a-f6608cb6e76d",
   "metadata": {},
   "outputs": [
    {
     "name": "stdout",
     "output_type": "stream",
     "text": [
      "Requirement already satisfied: osmnx in c:\\users\\mahima joshi\\.conda\\envs\\mp_env\\lib\\site-packages (2.0.2)\n",
      "Requirement already satisfied: networkx in c:\\users\\mahima joshi\\.conda\\envs\\mp_env\\lib\\site-packages (3.4.2)\n",
      "Requirement already satisfied: scikit-learn in c:\\users\\mahima joshi\\.conda\\envs\\mp_env\\lib\\site-packages (1.6.1)\n",
      "Collecting ortools\n",
      "  Downloading ortools-9.12.4544-cp310-cp310-win_amd64.whl.metadata (3.2 kB)\n",
      "Requirement already satisfied: geopandas>=1.0 in c:\\users\\mahima joshi\\.conda\\envs\\mp_env\\lib\\site-packages (from osmnx) (1.0.1)\n",
      "Requirement already satisfied: numpy>=1.22 in c:\\users\\mahima joshi\\.conda\\envs\\mp_env\\lib\\site-packages (from osmnx) (1.26.4)\n",
      "Requirement already satisfied: pandas>=1.4 in c:\\users\\mahima joshi\\.conda\\envs\\mp_env\\lib\\site-packages (from osmnx) (2.2.3)\n",
      "Requirement already satisfied: requests>=2.27 in c:\\users\\mahima joshi\\.conda\\envs\\mp_env\\lib\\site-packages (from osmnx) (2.32.3)\n",
      "Requirement already satisfied: shapely>=2.0 in c:\\users\\mahima joshi\\.conda\\envs\\mp_env\\lib\\site-packages (from osmnx) (2.1.0)\n",
      "Requirement already satisfied: scipy>=1.6.0 in c:\\users\\mahima joshi\\.conda\\envs\\mp_env\\lib\\site-packages (from scikit-learn) (1.15.2)\n",
      "Requirement already satisfied: joblib>=1.2.0 in c:\\users\\mahima joshi\\.conda\\envs\\mp_env\\lib\\site-packages (from scikit-learn) (1.4.2)\n",
      "Requirement already satisfied: threadpoolctl>=3.1.0 in c:\\users\\mahima joshi\\.conda\\envs\\mp_env\\lib\\site-packages (from scikit-learn) (3.6.0)\n",
      "Requirement already satisfied: absl-py>=2.0.0 in c:\\users\\mahima joshi\\.conda\\envs\\mp_env\\lib\\site-packages (from ortools) (2.2.2)\n",
      "Collecting protobuf<5.30,>=5.29.3 (from ortools)\n",
      "  Downloading protobuf-5.29.4-cp310-abi3-win_amd64.whl.metadata (592 bytes)\n",
      "Collecting immutabledict>=3.0.0 (from ortools)\n",
      "  Downloading immutabledict-4.2.1-py3-none-any.whl.metadata (3.5 kB)\n",
      "Requirement already satisfied: pyogrio>=0.7.2 in c:\\users\\mahima joshi\\.conda\\envs\\mp_env\\lib\\site-packages (from geopandas>=1.0->osmnx) (0.10.0)\n",
      "Requirement already satisfied: packaging in c:\\users\\mahima joshi\\.conda\\envs\\mp_env\\lib\\site-packages (from geopandas>=1.0->osmnx) (25.0)\n",
      "Requirement already satisfied: pyproj>=3.3.0 in c:\\users\\mahima joshi\\.conda\\envs\\mp_env\\lib\\site-packages (from geopandas>=1.0->osmnx) (3.7.1)\n",
      "Requirement already satisfied: python-dateutil>=2.8.2 in c:\\users\\mahima joshi\\.conda\\envs\\mp_env\\lib\\site-packages (from pandas>=1.4->osmnx) (2.9.0.post0)\n",
      "Requirement already satisfied: pytz>=2020.1 in c:\\users\\mahima joshi\\.conda\\envs\\mp_env\\lib\\site-packages (from pandas>=1.4->osmnx) (2025.2)\n",
      "Requirement already satisfied: tzdata>=2022.7 in c:\\users\\mahima joshi\\.conda\\envs\\mp_env\\lib\\site-packages (from pandas>=1.4->osmnx) (2025.2)\n",
      "Requirement already satisfied: charset-normalizer<4,>=2 in c:\\users\\mahima joshi\\.conda\\envs\\mp_env\\lib\\site-packages (from requests>=2.27->osmnx) (3.4.1)\n",
      "Requirement already satisfied: idna<4,>=2.5 in c:\\users\\mahima joshi\\.conda\\envs\\mp_env\\lib\\site-packages (from requests>=2.27->osmnx) (3.10)\n",
      "Requirement already satisfied: urllib3<3,>=1.21.1 in c:\\users\\mahima joshi\\.conda\\envs\\mp_env\\lib\\site-packages (from requests>=2.27->osmnx) (2.4.0)\n",
      "Requirement already satisfied: certifi>=2017.4.17 in c:\\users\\mahima joshi\\.conda\\envs\\mp_env\\lib\\site-packages (from requests>=2.27->osmnx) (2025.4.26)\n",
      "Requirement already satisfied: six>=1.5 in c:\\users\\mahima joshi\\.conda\\envs\\mp_env\\lib\\site-packages (from python-dateutil>=2.8.2->pandas>=1.4->osmnx) (1.17.0)\n",
      "Downloading ortools-9.12.4544-cp310-cp310-win_amd64.whl (18.0 MB)\n",
      "   ---------------------------------------- 0.0/18.0 MB ? eta -:--:--\n",
      "   ---- ----------------------------------- 2.1/18.0 MB 10.7 MB/s eta 0:00:02\n",
      "   --------- ------------------------------ 4.5/18.0 MB 10.7 MB/s eta 0:00:02\n",
      "   ------------- -------------------------- 6.3/18.0 MB 10.4 MB/s eta 0:00:02\n",
      "   ---------------- ----------------------- 7.6/18.0 MB 9.2 MB/s eta 0:00:02\n",
      "   ------------------- -------------------- 8.9/18.0 MB 8.4 MB/s eta 0:00:02\n",
      "   ---------------------- ----------------- 10.2/18.0 MB 7.9 MB/s eta 0:00:01\n",
      "   ------------------------ --------------- 11.0/18.0 MB 7.3 MB/s eta 0:00:01\n",
      "   -------------------------- ------------- 11.8/18.0 MB 7.0 MB/s eta 0:00:01\n",
      "   --------------------------- ------------ 12.6/18.0 MB 6.5 MB/s eta 0:00:01\n",
      "   ----------------------------- ---------- 13.4/18.0 MB 6.2 MB/s eta 0:00:01\n",
      "   ------------------------------ --------- 13.9/18.0 MB 5.9 MB/s eta 0:00:01\n",
      "   ------------------------------- -------- 14.2/18.0 MB 5.7 MB/s eta 0:00:01\n",
      "   -------------------------------- ------- 14.7/18.0 MB 5.2 MB/s eta 0:00:01\n",
      "   --------------------------------- ------ 14.9/18.0 MB 5.1 MB/s eta 0:00:01\n",
      "   --------------------------------- ------ 15.2/18.0 MB 4.8 MB/s eta 0:00:01\n",
      "   ---------------------------------- ----- 15.7/18.0 MB 4.6 MB/s eta 0:00:01\n",
      "   ------------------------------------ --- 16.5/18.0 MB 4.5 MB/s eta 0:00:01\n",
      "   ------------------------------------- -- 17.0/18.0 MB 4.4 MB/s eta 0:00:01\n",
      "   -------------------------------------- - 17.3/18.0 MB 4.3 MB/s eta 0:00:01\n",
      "   ---------------------------------------  17.8/18.0 MB 4.1 MB/s eta 0:00:01\n",
      "   ---------------------------------------- 18.0/18.0 MB 3.9 MB/s eta 0:00:00\n",
      "Downloading immutabledict-4.2.1-py3-none-any.whl (4.7 kB)\n",
      "Downloading protobuf-5.29.4-cp310-abi3-win_amd64.whl (434 kB)\n",
      "Installing collected packages: protobuf, immutabledict, ortools\n",
      "  Attempting uninstall: protobuf\n",
      "    Found existing installation: protobuf 4.25.6\n",
      "    Uninstalling protobuf-4.25.6:\n",
      "      Successfully uninstalled protobuf-4.25.6\n",
      "Successfully installed immutabledict-4.2.1 ortools-9.12.4544 protobuf-5.29.4\n",
      "Note: you may need to restart the kernel to use updated packages.\n"
     ]
    },
    {
     "name": "stderr",
     "output_type": "stream",
     "text": [
      "ERROR: pip's dependency resolver does not currently take into account all the packages that are installed. This behaviour is the source of the following dependency conflicts.\n",
      "mediapipe 0.10.21 requires protobuf<5,>=4.25.3, but you have protobuf 5.29.4 which is incompatible.\n"
     ]
    }
   ],
   "source": [
    "pip install osmnx networkx scikit-learn ortools\n"
   ]
  },
  {
   "cell_type": "code",
   "execution_count": 2,
   "id": "be1c50bb-d7d9-4efb-8512-d168809cc84c",
   "metadata": {},
   "outputs": [],
   "source": [
    "locations = [\n",
    "    # Race Course area\n",
    "    \"Sardar Ji’s Ice Cream, Race Course, Dehradun\",\n",
    "    \"Chaiwala, Clock Tower, Dehradun\",\n",
    "    \"Bikanervala, Rajpur Road, Dehradun\",\n",
    "\n",
    "    # Clement Town area\n",
    "    \"Moti Mahal Delux, Clement Town, Dehradun\",\n",
    "    \"The Salt Cafe, Cladun\",\n",
    "    \"New Shree Pind Punjabi Restaurant, Clement Town, Dehradun\",\n",
    "    \"Clement Town Bakery, Clement Town, Dehradun\",\n",
    "\n",
    "    # Mothrowala area\n",
    "    \"Mothrowala Sweets and Snacks, Mothrowala, Dehradun\",\n",
    "    \"Kashmir Shawl Store, Mothrowala, Dehradun\",\n",
    "    \"Mothrowala Market, Dehradun\"\n",
    "]\n"
   ]
  },
  {
   "cell_type": "code",
   "execution_count": 5,
   "id": "0ff04225-d082-4c58-b492-3de6496701dd",
   "metadata": {},
   "outputs": [
    {
     "ename": "InsufficientResponseError",
     "evalue": "Nominatim could not geocode query 'Sardar Ji’s Ice Cream, Race Course, Dehradun'.",
     "output_type": "error",
     "traceback": [
      "\u001b[1;31m---------------------------------------------------------------------------\u001b[0m",
      "\u001b[1;31mInsufficientResponseError\u001b[0m                 Traceback (most recent call last)",
      "Cell \u001b[1;32mIn[5], line 22\u001b[0m\n\u001b[0;32m      8\u001b[0m locations \u001b[38;5;241m=\u001b[39m [\n\u001b[0;32m      9\u001b[0m     \u001b[38;5;124m\"\u001b[39m\u001b[38;5;124mSardar Ji’s Ice Cream, Race Course, Dehradun\u001b[39m\u001b[38;5;124m\"\u001b[39m,\n\u001b[0;32m     10\u001b[0m     \u001b[38;5;124m\"\u001b[39m\u001b[38;5;124mChaiwala, Clock Tower, Dehradun\u001b[39m\u001b[38;5;124m\"\u001b[39m,\n\u001b[1;32m   (...)\u001b[0m\n\u001b[0;32m     18\u001b[0m     \u001b[38;5;124m\"\u001b[39m\u001b[38;5;124mMothrowala Market, Dehradun\u001b[39m\u001b[38;5;124m\"\u001b[39m\n\u001b[0;32m     19\u001b[0m ]\n\u001b[0;32m     21\u001b[0m \u001b[38;5;66;03m# Geocode the locations\u001b[39;00m\n\u001b[1;32m---> 22\u001b[0m geocoded \u001b[38;5;241m=\u001b[39m [ox\u001b[38;5;241m.\u001b[39mgeocoder\u001b[38;5;241m.\u001b[39mgeocode(loc) \u001b[38;5;28;01mfor\u001b[39;00m loc \u001b[38;5;129;01min\u001b[39;00m locations]\n\u001b[0;32m     23\u001b[0m \u001b[38;5;28mprint\u001b[39m(geocoded)\n",
      "Cell \u001b[1;32mIn[5], line 22\u001b[0m, in \u001b[0;36m<listcomp>\u001b[1;34m(.0)\u001b[0m\n\u001b[0;32m      8\u001b[0m locations \u001b[38;5;241m=\u001b[39m [\n\u001b[0;32m      9\u001b[0m     \u001b[38;5;124m\"\u001b[39m\u001b[38;5;124mSardar Ji’s Ice Cream, Race Course, Dehradun\u001b[39m\u001b[38;5;124m\"\u001b[39m,\n\u001b[0;32m     10\u001b[0m     \u001b[38;5;124m\"\u001b[39m\u001b[38;5;124mChaiwala, Clock Tower, Dehradun\u001b[39m\u001b[38;5;124m\"\u001b[39m,\n\u001b[1;32m   (...)\u001b[0m\n\u001b[0;32m     18\u001b[0m     \u001b[38;5;124m\"\u001b[39m\u001b[38;5;124mMothrowala Market, Dehradun\u001b[39m\u001b[38;5;124m\"\u001b[39m\n\u001b[0;32m     19\u001b[0m ]\n\u001b[0;32m     21\u001b[0m \u001b[38;5;66;03m# Geocode the locations\u001b[39;00m\n\u001b[1;32m---> 22\u001b[0m geocoded \u001b[38;5;241m=\u001b[39m [\u001b[43mox\u001b[49m\u001b[38;5;241;43m.\u001b[39;49m\u001b[43mgeocoder\u001b[49m\u001b[38;5;241;43m.\u001b[39;49m\u001b[43mgeocode\u001b[49m\u001b[43m(\u001b[49m\u001b[43mloc\u001b[49m\u001b[43m)\u001b[49m \u001b[38;5;28;01mfor\u001b[39;00m loc \u001b[38;5;129;01min\u001b[39;00m locations]\n\u001b[0;32m     23\u001b[0m \u001b[38;5;28mprint\u001b[39m(geocoded)\n",
      "File \u001b[1;32m~\\.conda\\envs\\mp_env\\lib\\site-packages\\osmnx\\geocoder.py:60\u001b[0m, in \u001b[0;36mgeocode\u001b[1;34m(query)\u001b[0m\n\u001b[0;32m     58\u001b[0m \u001b[38;5;66;03m# otherwise we got no results back\u001b[39;00m\n\u001b[0;32m     59\u001b[0m msg \u001b[38;5;241m=\u001b[39m \u001b[38;5;124mf\u001b[39m\u001b[38;5;124m\"\u001b[39m\u001b[38;5;124mNominatim could not geocode query \u001b[39m\u001b[38;5;132;01m{\u001b[39;00mquery\u001b[38;5;132;01m!r}\u001b[39;00m\u001b[38;5;124m.\u001b[39m\u001b[38;5;124m\"\u001b[39m\n\u001b[1;32m---> 60\u001b[0m \u001b[38;5;28;01mraise\u001b[39;00m InsufficientResponseError(msg)\n",
      "\u001b[1;31mInsufficientResponseError\u001b[0m: Nominatim could not geocode query 'Sardar Ji’s Ice Cream, Race Course, Dehradun'."
     ]
    }
   ],
   "source": [
    "import osmnx as ox\n",
    "\n",
    "# Make sure your settings allow geocoding (this uses OpenStreetMap's Nominatim)\n",
    "ox.settings.use_cache = True\n",
    "ox.settings.log_console = True\n",
    "\n",
    "# Define your location list\n",
    "locations = [\n",
    "    \"Sardar Ji’s Ice Cream, Race Course, Dehradun\",\n",
    "    \"Chaiwala, Clock Tower, Dehradun\",\n",
    "    \"Bikant Town, Dehradun\",\n",
    "    \"New Shree Pind Punjabi Restaurant, Clement Town, Dehradun\",\n",
    "    \"Clement Town Bakery, Clement Town, Dehradun\",\n",
    "    \"Mothrowala Sweets and Snacks, Mothrowala, Dehradun\",\n",
    "    \"Kashmir Shawl Store, Mothrowala, Dehradun\",\n",
    "    \"Mothrowala Market, Dehradun\"\n",
    "]\n",
    "\n",
    "# Geocode the locations\n",
    "geocoded = [ox.geocoder.geocode(loc) for loc in locations]\n",
    "print(geocoded)\n",
    "\n"
   ]
  },
  {
   "cell_type": "code",
   "execution_count": null,
   "id": "ebffa459-c489-4077-b0fd-19605160abfe",
   "metadata": {},
   "outputs": [],
   "source": [
    "from sklearn.cluster import DBSCAN\n",
    "import numpy as np\n",
    "\n",
    "coords = np.array(geocoded)\n",
    "db = DBSCAN(eps=0.01, min_samples=2).fit(coords)\n",
    "labels = db.labels_\n",
    "\n",
    "for i, label in enumerate(labels):\n",
    "    print(f\"{locations[i]} → Cluster {label}\")\n"
   ]
  }
 ],
 "metadata": {
  "kernelspec": {
   "display_name": "Python (mp_env)",
   "language": "python",
   "name": "mp_env"
  },
  "language_info": {
   "codemirror_mode": {
    "name": "ipython",
    "version": 3
   },
   "file_extension": ".py",
   "mimetype": "text/x-python",
   "name": "python",
   "nbconvert_exporter": "python",
   "pygments_lexer": "ipython3",
   "version": "3.10.16"
  }
 },
 "nbformat": 4,
 "nbformat_minor": 5
}
