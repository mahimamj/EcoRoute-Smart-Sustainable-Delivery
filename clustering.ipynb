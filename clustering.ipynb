{
 "cells": [
  {
   "cell_type": "code",
   "execution_count": 1,
   "id": "d915d402-cda4-49e0-b159-3794e240cca9",
   "metadata": {},
   "outputs": [
    {
     "name": "stdout",
     "output_type": "stream",
     "text": [
      "Requirement already satisfied: requests in c:\\users\\mahima joshi\\appdata\\local\\programs\\python\\python313\\lib\\site-packages (2.32.3)\n",
      "Requirement already satisfied: charset-normalizer<4,>=2 in c:\\users\\mahima joshi\\appdata\\local\\programs\\python\\python313\\lib\\site-packages (from requests) (3.4.0)\n",
      "Requirement already satisfied: idna<4,>=2.5 in c:\\users\\mahima joshi\\appdata\\local\\programs\\python\\python313\\lib\\site-packages (from requests) (3.10)\n",
      "Requirement already satisfied: urllib3<3,>=1.21.1 in c:\\users\\mahima joshi\\appdata\\local\\programs\\python\\python313\\lib\\site-packages (from requests) (2.2.3)\n",
      "Requirement already satisfied: certifi>=2017.4.17 in c:\\users\\mahima joshi\\appdata\\local\\programs\\python\\python313\\lib\\site-packages (from requests) (2024.8.30)\n"
     ]
    }
   ],
   "source": [
    "!pip install requests\n"
   ]
  },
  {
   "cell_type": "code",
   "execution_count": 2,
   "id": "bbf181e6-2193-41b5-85a5-d03299bd8518",
   "metadata": {},
   "outputs": [
    {
     "name": "stdout",
     "output_type": "stream",
     "text": [
      "Latitude: 48.8582599, Longitude: 2.2945006358633115\n"
     ]
    }
   ],
   "source": [
    "import requests\n",
    "\n",
    "def get_lat_lon(location):\n",
    "    url = f\"https://nominatim.openstreetmap.org/search?q={location}&format=json\"\n",
    "    headers = {\"User-Agent\": \"GeoClusterApp/1.0 (your_email@example.com)\"}  # Replace with your app/email\n",
    "    response = requests.get(url, headers=headers)\n",
    "    \n",
    "    try:\n",
    "        data = response.json()\n",
    "        if data:\n",
    "            return float(data[0]['lat']), float(data[0]['lon'])\n",
    "        else:\n",
    "            return None, None\n",
    "    except:\n",
    "        return None, None\n",
    "\n",
    "# Example usage\n",
    "lat, lon = get_lat_lon(\"Eiffel Tower, Paris\")\n",
    "print(f\"Latitude: {lat}, Longitude: {lon}\")\n"
   ]
  },
  {
   "cell_type": "code",
   "execution_count": 3,
   "id": "fa309dd8-7e57-4aca-929c-5517c3a86313",
   "metadata": {},
   "outputs": [
    {
     "name": "stdout",
     "output_type": "stream",
     "text": [
      "None\n"
     ]
    }
   ],
   "source": [
    "import requests\n",
    "\n",
    "def get_coordinates(place_name, api_key):\n",
    "    endpoint = \"https://maps.googleapis.com/maps/api/geocode/json\"\n",
    "    params = {\n",
    "        \"address\": place_name,\n",
    "        \"key\": api_key\n",
    "    }\n",
    "    response = requests.get(endpoint, params=params)\n",
    "    results = response.json()[\"results\"]\n",
    "    \n",
    "    if results:\n",
    "        location = results[0][\"geometry\"][\"location\"]\n",
    "        return location[\"lat\"], location[\"lng\"]\n",
    "    else:\n",
    "        return None\n",
    "\n",
    "# Example usage\n",
    "api_key = \"YOUR_GOOGLE_API_KEY\"\n",
    "print(get_coordinates(\"Domino's Pizza, Bandra, Mumbai\", api_key))\n"
   ]
  },
  {
   "cell_type": "code",
   "execution_count": null,
   "id": "66f63692-d9e4-45dd-a1b4-ee6702ae766b",
   "metadata": {},
   "outputs": [],
   "source": []
  }
 ],
 "metadata": {
  "kernelspec": {
   "display_name": "Python 3 (ipykernel)",
   "language": "python",
   "name": "python3"
  },
  "language_info": {
   "codemirror_mode": {
    "name": "ipython",
    "version": 3
   },
   "file_extension": ".py",
   "mimetype": "text/x-python",
   "name": "python",
   "nbconvert_exporter": "python",
   "pygments_lexer": "ipython3",
   "version": "3.13.2"
  }
 },
 "nbformat": 4,
 "nbformat_minor": 5
}
