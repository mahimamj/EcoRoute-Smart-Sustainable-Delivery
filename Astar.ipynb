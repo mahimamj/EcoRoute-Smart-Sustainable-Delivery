{
 "cells": [
  {
   "cell_type": "code",
   "execution_count": 1,
   "id": "602897e6-544f-448e-9e80-7d3a8cc001f7",
   "metadata": {},
   "outputs": [
    {
     "name": "stdout",
     "output_type": "stream",
     "text": [
      "Requirement already satisfied: osmnx in c:\\users\\mahima joshi\\.conda\\envs\\mp_env\\lib\\site-packages (2.0.2)Note: you may need to restart the kernel to use updated packages.\n",
      "\n",
      "Requirement already satisfied: networkx in c:\\users\\mahima joshi\\.conda\\envs\\mp_env\\lib\\site-packages (3.4.2)\n",
      "Requirement already satisfied: geopandas>=1.0 in c:\\users\\mahima joshi\\.conda\\envs\\mp_env\\lib\\site-packages (from osmnx) (1.0.1)\n",
      "Requirement already satisfied: numpy>=1.22 in c:\\users\\mahima joshi\\.conda\\envs\\mp_env\\lib\\site-packages (from osmnx) (1.26.4)\n",
      "Requirement already satisfied: pandas>=1.4 in c:\\users\\mahima joshi\\.conda\\envs\\mp_env\\lib\\site-packages (from osmnx) (2.2.3)\n",
      "Requirement already satisfied: requests>=2.27 in c:\\users\\mahima joshi\\.conda\\envs\\mp_env\\lib\\site-packages (from osmnx) (2.32.3)\n",
      "Requirement already satisfied: shapely>=2.0 in c:\\users\\mahima joshi\\.conda\\envs\\mp_env\\lib\\site-packages (from osmnx) (2.1.0)\n",
      "Requirement already satisfied: pyogrio>=0.7.2 in c:\\users\\mahima joshi\\.conda\\envs\\mp_env\\lib\\site-packages (from geopandas>=1.0->osmnx) (0.10.0)\n",
      "Requirement already satisfied: packaging in c:\\users\\mahima joshi\\.conda\\envs\\mp_env\\lib\\site-packages (from geopandas>=1.0->osmnx) (25.0)\n",
      "Requirement already satisfied: pyproj>=3.3.0 in c:\\users\\mahima joshi\\.conda\\envs\\mp_env\\lib\\site-packages (from geopandas>=1.0->osmnx) (3.7.1)\n",
      "Requirement already satisfied: python-dateutil>=2.8.2 in c:\\users\\mahima joshi\\.conda\\envs\\mp_env\\lib\\site-packages (from pandas>=1.4->osmnx) (2.9.0.post0)\n",
      "Requirement already satisfied: pytz>=2020.1 in c:\\users\\mahima joshi\\.conda\\envs\\mp_env\\lib\\site-packages (from pandas>=1.4->osmnx) (2025.2)\n",
      "Requirement already satisfied: tzdata>=2022.7 in c:\\users\\mahima joshi\\.conda\\envs\\mp_env\\lib\\site-packages (from pandas>=1.4->osmnx) (2025.2)\n",
      "Requirement already satisfied: charset-normalizer<4,>=2 in c:\\users\\mahima joshi\\.conda\\envs\\mp_env\\lib\\site-packages (from requests>=2.27->osmnx) (3.4.1)\n",
      "Requirement already satisfied: idna<4,>=2.5 in c:\\users\\mahima joshi\\.conda\\envs\\mp_env\\lib\\site-packages (from requests>=2.27->osmnx) (3.10)\n",
      "Requirement already satisfied: urllib3<3,>=1.21.1 in c:\\users\\mahima joshi\\.conda\\envs\\mp_env\\lib\\site-packages (from requests>=2.27->osmnx) (2.4.0)\n",
      "Requirement already satisfied: certifi>=2017.4.17 in c:\\users\\mahima joshi\\.conda\\envs\\mp_env\\lib\\site-packages (from requests>=2.27->osmnx) (2025.4.26)\n",
      "Requirement already satisfied: six>=1.5 in c:\\users\\mahima joshi\\.conda\\envs\\mp_env\\lib\\site-packages (from python-dateutil>=2.8.2->pandas>=1.4->osmnx) (1.17.0)\n"
     ]
    }
   ],
   "source": [
    "pip install osmnx networkx\n"
   ]
  },
  {
   "cell_type": "code",
   "execution_count": 2,
   "id": "92780fcb-f007-427c-9682-a4c9754d0f27",
   "metadata": {},
   "outputs": [
    {
     "name": "stdout",
     "output_type": "stream",
     "text": [
      "Requirement already satisfied: openrouteservice in c:\\users\\mahima joshi\\.conda\\envs\\mp_env\\lib\\site-packages (2.3.3)\n",
      "Requirement already satisfied: folium in c:\\users\\mahima joshi\\.conda\\envs\\mp_env\\lib\\site-packages (0.19.5)\n",
      "Requirement already satisfied: requests>=2.0 in c:\\users\\mahima joshi\\.conda\\envs\\mp_env\\lib\\site-packages (from openrouteservice) (2.32.3)\n",
      "Requirement already satisfied: branca>=0.6.0 in c:\\users\\mahima joshi\\.conda\\envs\\mp_env\\lib\\site-packages (from folium) (0.8.1)\n",
      "Requirement already satisfied: jinja2>=2.9 in c:\\users\\mahima joshi\\.conda\\envs\\mp_env\\lib\\site-packages (from folium) (3.1.6)\n",
      "Requirement already satisfied: numpy in c:\\users\\mahima joshi\\.conda\\envs\\mp_env\\lib\\site-packages (from folium) (1.26.4)\n",
      "Requirement already satisfied: xyzservices in c:\\users\\mahima joshi\\.conda\\envs\\mp_env\\lib\\site-packages (from folium) (2025.4.0)\n",
      "Requirement already satisfied: MarkupSafe>=2.0 in c:\\users\\mahima joshi\\.conda\\envs\\mp_env\\lib\\site-packages (from jinja2>=2.9->folium) (3.0.2)\n",
      "Requirement already satisfied: charset-normalizer<4,>=2 in c:\\users\\mahima joshi\\.conda\\envs\\mp_env\\lib\\site-packages (from requests>=2.0->openrouteservice) (3.4.1)\n",
      "Requirement already satisfied: idna<4,>=2.5 in c:\\users\\mahima joshi\\.conda\\envs\\mp_env\\lib\\site-packages (from requests>=2.0->openrouteservice) (3.10)\n",
      "Requirement already satisfied: urllib3<3,>=1.21.1 in c:\\users\\mahima joshi\\.conda\\envs\\mp_env\\lib\\site-packages (from requests>=2.0->openrouteservice) (2.4.0)\n",
      "Requirement already satisfied: certifi>=2017.4.17 in c:\\users\\mahima joshi\\.conda\\envs\\mp_env\\lib\\site-packages (from requests>=2.0->openrouteservice) (2025.4.26)\n"
     ]
    }
   ],
   "source": [
    "!pip install openrouteservice folium \n"
   ]
  },
  {
   "cell_type": "code",
   "execution_count": 9,
   "id": "035ddf71-f3c5-49fe-b15c-2961bb468551",
   "metadata": {},
   "outputs": [
    {
     "name": "stdout",
     "output_type": "stream",
     "text": [
      "Requirement already satisfied: scikit-learn in c:\\users\\mahima joshi\\.conda\\envs\\mp_env\\lib\\site-packages (1.6.1)Note: you may need to restart the kernel to use updated packages.\n",
      "\n",
      "Requirement already satisfied: numpy>=1.19.5 in c:\\users\\mahima joshi\\.conda\\envs\\mp_env\\lib\\site-packages (from scikit-learn) (1.26.4)\n",
      "Requirement already satisfied: scipy>=1.6.0 in c:\\users\\mahima joshi\\.conda\\envs\\mp_env\\lib\\site-packages (from scikit-learn) (1.15.2)\n",
      "Requirement already satisfied: joblib>=1.2.0 in c:\\users\\mahima joshi\\.conda\\envs\\mp_env\\lib\\site-packages (from scikit-learn) (1.4.2)\n",
      "Requirement already satisfied: threadpoolctl>=3.1.0 in c:\\users\\mahima joshi\\.conda\\envs\\mp_env\\lib\\site-packages (from scikit-learn) (3.6.0)\n"
     ]
    }
   ],
   "source": [
    "pip install scikit-learn \n"
   ]
  },
  {
   "cell_type": "code",
   "execution_count": 10,
   "id": "5a9e8c7e-d277-47f0-9050-2f618f1d2713",
   "metadata": {},
   "outputs": [
    {
     "name": "stdout",
     "output_type": "stream",
     "text": [
      "Requirement already satisfied: folium in c:\\users\\mahima joshi\\.conda\\envs\\mp_env\\lib\\site-packages (0.19.5)\n",
      "Requirement already satisfied: branca>=0.6.0 in c:\\users\\mahima joshi\\.conda\\envs\\mp_env\\lib\\site-packages (from folium) (0.8.1)\n",
      "Requirement already satisfied: jinja2>=2.9 in c:\\users\\mahima joshi\\.conda\\envs\\mp_env\\lib\\site-packages (from folium) (3.1.6)\n",
      "Requirement already satisfied: numpy in c:\\users\\mahima joshi\\.conda\\envs\\mp_env\\lib\\site-packages (from folium) (1.26.4)\n",
      "Requirement already satisfied: requests in c:\\users\\mahima joshi\\.conda\\envs\\mp_env\\lib\\site-packages (from folium) (2.32.3)\n",
      "Requirement already satisfied: xyzservices in c:\\users\\mahima joshi\\.conda\\envs\\mp_env\\lib\\site-packages (from folium) (2025.4.0)\n",
      "Requirement already satisfied: MarkupSafe>=2.0 in c:\\users\\mahima joshi\\.conda\\envs\\mp_env\\lib\\site-packages (from jinja2>=2.9->folium) (3.0.2)\n",
      "Requirement already satisfied: charset-normalizer<4,>=2 in c:\\users\\mahima joshi\\.conda\\envs\\mp_env\\lib\\site-packages (from requests->folium) (3.4.1)\n",
      "Requirement already satisfied: idna<4,>=2.5 in c:\\users\\mahima joshi\\.conda\\envs\\mp_env\\lib\\site-packages (from requests->folium) (3.10)\n",
      "Requirement already satisfied: urllib3<3,>=1.21.1 in c:\\users\\mahima joshi\\.conda\\envs\\mp_env\\lib\\site-packages (from requests->folium) (2.4.0)\n",
      "Requirement already satisfied: certifi>=2017.4.17 in c:\\users\\mahima joshi\\.conda\\envs\\mp_env\\lib\\site-packages (from requests->folium) (2025.4.26)\n",
      "Note: you may need to restart the kernel to use updated packages.\n"
     ]
    }
   ],
   "source": [
    "pip install folium"
   ]
  },
  {
   "cell_type": "code",
   "execution_count": 1,
   "id": "2b21ad40-1139-4014-888a-30388b473bfd",
   "metadata": {},
   "outputs": [
    {
     "name": "stdout",
     "output_type": "stream",
     "text": [
      "Open this link in your browser to see the route on Google Maps:\n",
      "https://www.google.com/maps/dir/?api=1&origin=30.3203474,78.0374259&destination=30.2725465,77.9999065&travelmode=driving&waypoints=30.319598,78.0362048|30.3022295,78.010215|30.2846527,77.99765|30.2718416,77.998957\n"
     ]
    }
   ],
   "source": [
    "import osmnx as ox\n",
    "import networkx as nx\n",
    "import numpy as np\n",
    "\n",
    "# Step 1: Get drivable street network of Dehradun\n",
    "G = ox.graph_from_place(\"Dehradun, India\", network_type=\"drive\")\n",
    "\n",
    "# Step 2: Geocode start and end places\n",
    "start_address = \"Paltan Bazar, Dehradun, India\"\n",
    "end_address = \"Graphic Era Hill University, Dehradun, India\"\n",
    "\n",
    "start_point = ox.geocoder.geocode(start_address)\n",
    "end_point = ox.geocoder.geocode(end_address)\n",
    "\n",
    "# Step 3: Get nearest graph nodes to the start and end points\n",
    "orig_node = ox.nearest_nodes(G, start_point[1], start_point[0])\n",
    "dest_node = ox.nearest_nodes(G, end_point[1], end_point[0])\n",
    "\n",
    "# Step 4: Define A* Euclidean heuristic\n",
    "def euclidean_heuristic(u, v):\n",
    "    u_point = (G.nodes[u]['y'], G.nodes[u]['x'])  # lat, lon\n",
    "    v_point = (G.nodes[v]['y'], G.nodes[v]['x'])\n",
    "    return np.linalg.norm(np.array(u_point) - np.array(v_point))\n",
    "\n",
    "# Step 5: Run A* to get the shortest-distance route\n",
    "route = nx.astar_path(G, orig_node, dest_node, heuristic=euclidean_heuristic, weight='length')\n",
    "\n",
    "# Step 6: Convert route to lat/lon coordinates\n",
    "route_coords = [(G.nodes[node]['y'], G.nodes[node]['x']) for node in route]\n",
    "\n",
    "# Step 7: Generate Google Maps directions link (free, no API key)\n",
    "base_url = \"https://www.google.com/maps/dir/?api=1\"\n",
    "origin = f\"{route_coords[0][0]},{route_coords[0][1]}\"\n",
    "destination = f\"{route_coords[-1][0]},{route_coords[-1][1]}\"\n",
    "waypoints = \"|\".join([f\"{lat},{lon}\" for lat, lon in route_coords[1:-1][::30]])  # pick every 30th point\n",
    "\n",
    "# Final URL\n",
    "gmap_url = f\"{base_url}&origin={origin}&destination={destination}&travelmode=driving\"\n",
    "if waypoints:\n",
    "    gmap_url += f\"&waypoints={waypoints}\"\n",
    "\n",
    "# Show the link\n",
    "print(\"Open this link in your browser to see the route on Google Maps:\")\n",
    "print(gmap_url)\n"
   ]
  },
  {
   "cell_type": "code",
   "execution_count": 2,
   "id": "88fcf54e-de03-4a75-b57f-3937bd36f358",
   "metadata": {},
   "outputs": [
    {
     "name": "stdout",
     "output_type": "stream",
     "text": [
      "✅ Map saved as 'route_comparison_map.html'. Open it in a browser to compare paths.\n"
     ]
    }
   ],
   "source": [
    "import osmnx as ox\n",
    "import networkx as nx\n",
    "import numpy as np\n",
    "import folium\n",
    "\n",
    "# Step 1: Load graph\n",
    "G = ox.graph_from_place(\"Dehradun, India\", network_type='drive')\n",
    "\n",
    "# Step 2: Define locations\n",
    "start = \"Paltan Bazar, Dehradun, India\"\n",
    "end = \"Graphic Era Hill University, Dehradun, India\"\n",
    "\n",
    "# Step 3: Geocode to get lat/lon\n",
    "start_point = ox.geocode(start)\n",
    "end_point = ox.geocode(end)\n",
    "\n",
    "# Step 4: Find nearest graph nodes\n",
    "orig_node = ox.nearest_nodes(G, X=start_point[1], Y=start_point[0])\n",
    "dest_node = ox.nearest_nodes(G, X=end_point[1], Y=end_point[0])\n",
    "\n",
    "# Step 5: Define A* heuristic (Euclidean)\n",
    "def euclidean_heuristic(u, v):\n",
    "    u_xy = (G.nodes[u]['x'], G.nodes[u]['y'])\n",
    "    v_xy = (G.nodes[v]['x'], G.nodes[v]['y'])\n",
    "    return np.linalg.norm(np.array(u_xy) - np.array(v_xy))\n",
    "\n",
    "# Step 6: Get both paths\n",
    "dijkstra_path = nx.shortest_path(G, orig_node, dest_node, weight='length')\n",
    "astar_path = nx.astar_path(G, orig_node, dest_node, heuristic=euclidean_heuristic, weight='length')\n",
    "\n",
    "# Step 7: Convert to lat/lon coordinates\n",
    "dijkstra_coords = [(G.nodes[n]['y'], G.nodes[n]['x']) for n in dijkstra_path]\n",
    "ast for n in astar_path]\n",
    "\n",
    "# Step 8: Create Folium map centered at start\n",
    "map_center = [(start_point[0] + end_point[0]) / 2, (start_point[1] + end_point[1]) / 2]\n",
    "m = folium.Map(location=map_center, zoom_start=13)\n",
    "\n",
    "# Add Dijkstra path (blue)\n",
    "folium.PolyLine(dijkstra_coords, color='blue', weight=4, opacity=0.7, tooltip='Dijkstra Path').add_to(m)\n",
    "\n",
    "# Add A* path (green)\n",
    "folium='green', weight=4, opacity=0.7, tooltip='A* Path').add_to(m)\n",
    "\n",
    "# Add markers\n",
    "folium.Marker(start_point, popup='Start: Paltan Bazar', icon=folium.Icon(color='red')).add_to(m)\n",
    "folium.Marker(end_point, popup='End: Graphic Era', icon=folium.Icon(color='purple')).add_to(m)\n",
    "\n",
    "# Save and display\n",
    "m.save(\"route_comparison_map.html\")\n",
    "print(\"✅ Map saved as 'route_comparison_map.html'. Open it in a browser to compare paths.\")\n"
   ]
  },
  {
   "cell_type": "code",
   "execution_count": null,
   "id": "a0716817-3d5e-4c17-92f5-8cf205fe1c37",
   "metadata": {},
   "outputs": [],
   "source": []
  }
 ],
 "metadata": {
  "kernelspec": {
   "display_name": "Python (mp_env)",
   "language": "python",
   "name": "mp_env"
  },
  "language_info": {
   "codemirror_mode": {
    "name": "ipython",
    "version": 3
   },
   "file_extension": ".py",
   "mimetype": "text/x-python",
   "name": "python",
   "nbconvert_exporter": "python",
   "pygments_lexer": "ipython3",
   "version": "3.10.16"
  }
 },
 "nbformat": 4,
 "nbformat_minor": 5
}
